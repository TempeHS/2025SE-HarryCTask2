{
 "cells": [
  {
   "cell_type": "markdown",
   "metadata": {},
   "source": [
    "### Data Wrangling\n",
    "\n",
    "- The following data wrangling processes uses pandas for analysis and manipulation of the dataset"
   ]
  },
  {
   "cell_type": "markdown",
   "metadata": {},
   "source": [
    "#### The following are the required dependencies"
   ]
  },
  {
   "cell_type": "code",
   "execution_count": 5,
   "metadata": {},
   "outputs": [],
   "source": [
    "# Import frameworks\n",
    "import pandas as pd\n",
    "from sklearn.preprocessing import MinMaxScaler"
   ]
  },
  {
   "cell_type": "markdown",
   "metadata": {},
   "source": [
    "#### Storing the dataset as a local variable\n",
    "\n",
    "- Similar to the data preview notebook, the pandas object structures the dataset into a format ready for preprocessing"
   ]
  },
  {
   "cell_type": "code",
   "execution_count": 6,
   "metadata": {},
   "outputs": [],
   "source": [
    "data_frame = pd.read_csv(\"real_estate_sydney.csv\")"
   ]
  },
  {
   "cell_type": "markdown",
   "metadata": {},
   "source": [
    "#### Null Values\n",
    "\n",
    "- Null values occur when a row of data does not include a particulat input feature, which can cause runtime errors and unexpected results/\n",
    "- `isnull().sum` method shows if there are null values in any of the columns"
   ]
  },
  {
   "cell_type": "code",
   "execution_count": 7,
   "metadata": {},
   "outputs": [
    {
     "data": {
      "text/plain": [
       "Target                      0\n",
       "date_sold                   0\n",
       "suburb                      0\n",
       "num_bath                    0\n",
       "num_bed                     0\n",
       "num_parking                 0\n",
       "property_size               0\n",
       "type                        0\n",
       "suburb_population           0\n",
       "suburb_median_income        0\n",
       "suburb_sqkm                 0\n",
       "suburb_lat                  0\n",
       "suburb_lng                  0\n",
       "suburb_elevation            0\n",
       "cash_rate                   0\n",
       "property_inflation_index    0\n",
       "km_from_cbd                 0\n",
       "dtype: int64"
      ]
     },
     "execution_count": 7,
     "metadata": {},
     "output_type": "execute_result"
    }
   ],
   "source": [
    "data_frame.isnull().sum()"
   ]
  },
  {
   "cell_type": "markdown",
   "metadata": {},
   "source": [
    "- This is a high quality dataset, and there are no null values\n",
    "- However for future reference, if there is null values, here are two common approaches\n",
    "\n",
    "1. Remove a row with null values using `dropna()`\n",
    "2. Replace null value with mean value for particular feature or target using `fillna()`"
   ]
  },
  {
   "cell_type": "markdown",
   "metadata": {},
   "source": [
    "#### Removing Duplicates\n",
    "\n",
    "- Duplicate data can reduce diversity and laead to overfitting and thus bias\n",
    "\n",
    "- The `duplicated().sum()` method, returns the amount of duplicate rows"
   ]
  },
  {
   "cell_type": "code",
   "execution_count": 8,
   "metadata": {},
   "outputs": [
    {
     "data": {
      "text/plain": [
       "np.int64(0)"
      ]
     },
     "execution_count": 8,
     "metadata": {},
     "output_type": "execute_result"
    }
   ],
   "source": [
    "data_frame.duplicated().sum()"
   ]
  },
  {
   "cell_type": "markdown",
   "metadata": {},
   "source": [
    "- Again this ia a high quality dataset meaning, there are no duplicates\n",
    "- The `drop_duplicated()` method can be used to remove the duplicated rows"
   ]
  },
  {
   "cell_type": "markdown",
   "metadata": {},
   "source": [
    "#### Replacing data\n",
    "\n",
    "- The dataset has input features which are strings, meaning that `.apply()` functions can be used to whole columns to modify values\n",
    "- Though first I want to view the amount of unique property types using the `unique()` function\n"
   ]
  },
  {
   "cell_type": "code",
   "execution_count": 9,
   "metadata": {},
   "outputs": [
    {
     "data": {
      "text/plain": [
       "array(['House', 'Vacant land', 'Townhouse', 'Apartment / Unit / Flat',\n",
       "       'Semi-Detached', 'New House & Land', 'Duplex', 'Villa', 'New land',\n",
       "       'Terrace', 'Studio', 'Block of Units', 'Development Site',\n",
       "       'Acreage / Semi-Rural', 'New Apartments / Off the Plan', 'Rural'],\n",
       "      dtype=object)"
      ]
     },
     "execution_count": 9,
     "metadata": {},
     "output_type": "execute_result"
    }
   ],
   "source": [
    "data_frame['type'].unique()"
   ]
  },
  {
   "cell_type": "markdown",
   "metadata": {},
   "source": [
    "- This is far too many types of properties, before further wrangling, these property type features will be changed to either house or apartment, or removed altogether"
   ]
  },
  {
   "cell_type": "code",
   "execution_count": 10,
   "metadata": {},
   "outputs": [],
   "source": [
    "# Extracts all of the type input features to be maniplated\n",
    "types = data_frame['type'].to_list()\n",
    "\n",
    "# Choosing options for the type of properties\n",
    "house = ['House', 'Villa', 'Townhouse', 'Duplex', 'Terrace']\n",
    "apartments = ['Apartment / Unit / Flat', 'Studio']\n",
    "\n",
    "# Creating a new list to store the new types\n",
    "new_types = []\n",
    "\n",
    "# Looping through the types and checking if they are in the house or apartment list\n",
    "# Property types do not include land as does not fit into the scope\n",
    "for _ in types:\n",
    "    if _ in house:\n",
    "        new_types.append('House')\n",
    "    elif _ in apartments:\n",
    "        new_types.append('Apartment')\n",
    "    else:\n",
    "        new_types.append(None) # Rows that aren't houses or apartments are classified as None and are deleted later\n",
    "\n",
    "\n",
    "data_frame['type'] = new_types\n",
    "\n",
    "data_frame.dropna(subset=['type'], inplace=True)"
   ]
  },
  {
   "cell_type": "markdown",
   "metadata": {},
   "source": [
    "- The dataset has 17 features, many of which will be removed to improve the simplicity of the dataset, and to allow room for engineered features"
   ]
  },
  {
   "cell_type": "code",
   "execution_count": 11,
   "metadata": {},
   "outputs": [],
   "source": [
    "data_frame.drop(columns=['suburb','suburb_population', 'suburb_sqkm','cash_rate','property_inflation_index', 'suburb_elevation'], inplace=True)"
   ]
  },
  {
   "cell_type": "markdown",
   "metadata": {},
   "source": [
    "#### Removing outliers\n",
    "\n",
    "- Outliers can negatively affect accuracy in numerical columns\n",
    "\n",
    "- The 25th and 75th quartiles can be used to estimate an appropraite range, and all that do not fit can be filtered out\n",
    "\n",
    "- Mathematically speaking, outliers are values occuring 1.5x outside the interquartile range from Q1 or Q3\n",
    "\n"
   ]
  },
  {
   "cell_type": "markdown",
   "metadata": {},
   "source": [
    "- However, miniscule sizes have been recorded, so the lower quartile will be adjusted from 1.5 to 1.3"
   ]
  },
  {
   "cell_type": "code",
   "execution_count": 12,
   "metadata": {},
   "outputs": [
    {
     "name": "stdout",
     "output_type": "stream",
     "text": [
      "count    10731.000000\n",
      "mean       706.933464\n",
      "std        975.025893\n",
      "min          7.000000\n",
      "25%        449.000000\n",
      "50%        601.000000\n",
      "75%        765.000000\n",
      "max      59100.000000\n",
      "Name: property_size, dtype: float64\n",
      "Outliers are a property_size above 1239.0 or below 38.19999999999999\n"
     ]
    }
   ],
   "source": [
    "#get the inter-quartile range on the property size column\n",
    "print(data_frame['property_size'].describe())\n",
    "Q1 = data_frame['property_size'].quantile(0.25)\n",
    "Q3 = data_frame['property_size'].quantile(0.75)\n",
    "IQR = Q3 - Q1\n",
    "print(f'Outliers are a property_size above {Q3 + IQR * 1.5} or below {Q1 - IQR * 1.3}')"
   ]
  },
  {
   "cell_type": "markdown",
   "metadata": {},
   "source": [
    "- The property sizes will be filtered within an acceptable range"
   ]
  },
  {
   "cell_type": "code",
   "execution_count": 13,
   "metadata": {},
   "outputs": [
    {
     "name": "stdout",
     "output_type": "stream",
     "text": [
      "count    10069.000000\n",
      "mean       575.651008\n",
      "std        255.499836\n",
      "min         40.000000\n",
      "25%        421.000000\n",
      "50%        586.000000\n",
      "75%        721.000000\n",
      "max       1239.000000\n",
      "Name: property_size, dtype: float64\n"
     ]
    }
   ],
   "source": [
    "# Filter salaries within the acceptable range\n",
    "data_frame = data_frame[(data_frame['property_size'] >= Q1 - 1.3 * IQR) & (data_frame['property_size'] <= Q3 + 1.5 * IQR)]\n",
    "print(data_frame['property_size'].describe())"
   ]
  },
  {
   "cell_type": "markdown",
   "metadata": {},
   "source": [
    "- Looking for outliers in property sizes minimises the amount of outliers in all other features such as bedrooms and bathrooms, as it provides the most wholistic account of amount of bedrooms, bathrooms etc"
   ]
  },
  {
   "cell_type": "code",
   "execution_count": 14,
   "metadata": {},
   "outputs": [
    {
     "name": "stdout",
     "output_type": "stream",
     "text": [
      "count    10069.000000\n",
      "mean        26.792673\n",
      "std         18.444099\n",
      "min          0.310000\n",
      "25%         12.680000\n",
      "50%         21.790000\n",
      "75%         40.120000\n",
      "max         84.790000\n",
      "Name: km_from_cbd, dtype: float64\n",
      "Outliers are a km_from_cbd above 81.28 or below -28.479999999999997\n"
     ]
    }
   ],
   "source": [
    "#get the inter-quartile range on the distance from CBD column\n",
    "print(data_frame['km_from_cbd'].describe())\n",
    "Q1 = data_frame['km_from_cbd'].quantile(0.25)\n",
    "Q3 = data_frame['km_from_cbd'].quantile(0.75)\n",
    "IQR = Q3 - Q1\n",
    "print(f'Outliers are a km_from_cbd above {Q3 + IQR * 1.5} or below {Q1 - IQR * 1.5}')"
   ]
  },
  {
   "cell_type": "markdown",
   "metadata": {},
   "source": [
    "- The minimum is extremely low, so here the Q1 outliers will be ignored because it is still valid data, unlike previous data"
   ]
  },
  {
   "cell_type": "code",
   "execution_count": 15,
   "metadata": {},
   "outputs": [
    {
     "name": "stdout",
     "output_type": "stream",
     "text": [
      "count    10018.000000\n",
      "mean        26.506262\n",
      "std         18.047546\n",
      "min          0.310000\n",
      "25%         12.680000\n",
      "50%         21.620000\n",
      "75%         39.760000\n",
      "max         78.540000\n",
      "Name: km_from_cbd, dtype: float64\n"
     ]
    }
   ],
   "source": [
    "# Filter distance from cbd within the acceptable range\n",
    "data_frame = data_frame[(data_frame['km_from_cbd'] <= Q3 + 1.5 * IQR)]\n",
    "print(data_frame['km_from_cbd'].describe())"
   ]
  },
  {
   "cell_type": "markdown",
   "metadata": {},
   "source": [
    "#### Scaling features to a common range\n",
    "\n",
    "- Scaling features optimises the data, allowing for the ease of machine learning algorithm to find an optimal solution as difference of scales does not influence them"
   ]
  },
  {
   "cell_type": "code",
   "execution_count": 16,
   "metadata": {},
   "outputs": [
    {
     "data": {
      "application/vnd.microsoft.datawrangler.viewer.v0+json": {
       "columns": [
        {
         "name": "index",
         "rawType": "object",
         "type": "string"
        },
        {
         "name": "Target",
         "rawType": "float64",
         "type": "float"
        },
        {
         "name": "num_bath",
         "rawType": "float64",
         "type": "float"
        },
        {
         "name": "num_bed",
         "rawType": "float64",
         "type": "float"
        },
        {
         "name": "num_parking",
         "rawType": "float64",
         "type": "float"
        },
        {
         "name": "property_size",
         "rawType": "float64",
         "type": "float"
        },
        {
         "name": "suburb_median_income",
         "rawType": "float64",
         "type": "float"
        },
        {
         "name": "suburb_lat",
         "rawType": "float64",
         "type": "float"
        },
        {
         "name": "suburb_lng",
         "rawType": "float64",
         "type": "float"
        },
        {
         "name": "km_from_cbd",
         "rawType": "float64",
         "type": "float"
        }
       ],
       "conversionMethod": "pd.DataFrame",
       "ref": "3693e495-616f-4466-bfa3-5cb4047a2bff",
       "rows": [
        [
         "count",
         "10018.0",
         "10018.0",
         "10018.0",
         "10018.0",
         "10018.0",
         "10018.0",
         "10018.0",
         "10018.0",
         "10018.0"
        ],
        [
         "mean",
         "1633421.8358953884",
         "2.0396286683968854",
         "3.72170093831104",
         "1.9509882212018368",
         "0.4353243835892142",
         "40308.808544619686",
         "-33.785383908963865",
         "151.1014693431823",
         "26.506261728888"
        ],
        [
         "std",
         "1100330.4295612425",
         "1.018020098769222",
         "1.233621952744527",
         "1.2162149964135691",
         "0.20806205516195253",
         "11206.210816168994",
         "0.19834228045674973",
         "0.20647937547272222",
         "18.04754596320992"
        ],
        [
         "min",
         "272500.0",
         "0.0",
         "0.0",
         "0.0",
         "0.0",
         "14248.0",
         "-34.10624",
         "150.55384",
         "0.31"
        ],
        [
         "25%",
         "1000000.0",
         "1.0",
         "3.0",
         "1.0",
         "0.3089430894308943",
         "32500.0",
         "-33.92148",
         "150.95681",
         "12.68"
        ],
        [
         "50%",
         "1360000.0",
         "2.0",
         "4.0",
         "2.0",
         "0.44471544715447153",
         "39260.0",
         "-33.81378",
         "151.11506",
         "21.62"
        ],
        [
         "75%",
         "2000000.0",
         "2.0",
         "4.0",
         "2.0",
         "0.5536585365853659",
         "45552.0",
         "-33.72338",
         "151.22753",
         "39.76"
        ],
        [
         "max",
         "17000000.0",
         "46.0",
         "47.0",
         "50.0",
         "0.9747967479674797",
         "97500.0",
         "-33.21142",
         "151.56381",
         "78.54"
        ]
       ],
       "shape": {
        "columns": 9,
        "rows": 8
       }
      },
      "text/html": [
       "<div>\n",
       "<style scoped>\n",
       "    .dataframe tbody tr th:only-of-type {\n",
       "        vertical-align: middle;\n",
       "    }\n",
       "\n",
       "    .dataframe tbody tr th {\n",
       "        vertical-align: top;\n",
       "    }\n",
       "\n",
       "    .dataframe thead th {\n",
       "        text-align: right;\n",
       "    }\n",
       "</style>\n",
       "<table border=\"1\" class=\"dataframe\">\n",
       "  <thead>\n",
       "    <tr style=\"text-align: right;\">\n",
       "      <th></th>\n",
       "      <th>Target</th>\n",
       "      <th>num_bath</th>\n",
       "      <th>num_bed</th>\n",
       "      <th>num_parking</th>\n",
       "      <th>property_size</th>\n",
       "      <th>suburb_median_income</th>\n",
       "      <th>suburb_lat</th>\n",
       "      <th>suburb_lng</th>\n",
       "      <th>km_from_cbd</th>\n",
       "    </tr>\n",
       "  </thead>\n",
       "  <tbody>\n",
       "    <tr>\n",
       "      <th>count</th>\n",
       "      <td>1.001800e+04</td>\n",
       "      <td>10018.000000</td>\n",
       "      <td>10018.000000</td>\n",
       "      <td>10018.000000</td>\n",
       "      <td>10018.000000</td>\n",
       "      <td>10018.000000</td>\n",
       "      <td>10018.000000</td>\n",
       "      <td>10018.000000</td>\n",
       "      <td>10018.000000</td>\n",
       "    </tr>\n",
       "    <tr>\n",
       "      <th>mean</th>\n",
       "      <td>1.633422e+06</td>\n",
       "      <td>2.039629</td>\n",
       "      <td>3.721701</td>\n",
       "      <td>1.950988</td>\n",
       "      <td>0.435324</td>\n",
       "      <td>40308.808545</td>\n",
       "      <td>-33.785384</td>\n",
       "      <td>151.101469</td>\n",
       "      <td>26.506262</td>\n",
       "    </tr>\n",
       "    <tr>\n",
       "      <th>std</th>\n",
       "      <td>1.100330e+06</td>\n",
       "      <td>1.018020</td>\n",
       "      <td>1.233622</td>\n",
       "      <td>1.216215</td>\n",
       "      <td>0.208062</td>\n",
       "      <td>11206.210816</td>\n",
       "      <td>0.198342</td>\n",
       "      <td>0.206479</td>\n",
       "      <td>18.047546</td>\n",
       "    </tr>\n",
       "    <tr>\n",
       "      <th>min</th>\n",
       "      <td>2.725000e+05</td>\n",
       "      <td>0.000000</td>\n",
       "      <td>0.000000</td>\n",
       "      <td>0.000000</td>\n",
       "      <td>0.000000</td>\n",
       "      <td>14248.000000</td>\n",
       "      <td>-34.106240</td>\n",
       "      <td>150.553840</td>\n",
       "      <td>0.310000</td>\n",
       "    </tr>\n",
       "    <tr>\n",
       "      <th>25%</th>\n",
       "      <td>1.000000e+06</td>\n",
       "      <td>1.000000</td>\n",
       "      <td>3.000000</td>\n",
       "      <td>1.000000</td>\n",
       "      <td>0.308943</td>\n",
       "      <td>32500.000000</td>\n",
       "      <td>-33.921480</td>\n",
       "      <td>150.956810</td>\n",
       "      <td>12.680000</td>\n",
       "    </tr>\n",
       "    <tr>\n",
       "      <th>50%</th>\n",
       "      <td>1.360000e+06</td>\n",
       "      <td>2.000000</td>\n",
       "      <td>4.000000</td>\n",
       "      <td>2.000000</td>\n",
       "      <td>0.444715</td>\n",
       "      <td>39260.000000</td>\n",
       "      <td>-33.813780</td>\n",
       "      <td>151.115060</td>\n",
       "      <td>21.620000</td>\n",
       "    </tr>\n",
       "    <tr>\n",
       "      <th>75%</th>\n",
       "      <td>2.000000e+06</td>\n",
       "      <td>2.000000</td>\n",
       "      <td>4.000000</td>\n",
       "      <td>2.000000</td>\n",
       "      <td>0.553659</td>\n",
       "      <td>45552.000000</td>\n",
       "      <td>-33.723380</td>\n",
       "      <td>151.227530</td>\n",
       "      <td>39.760000</td>\n",
       "    </tr>\n",
       "    <tr>\n",
       "      <th>max</th>\n",
       "      <td>1.700000e+07</td>\n",
       "      <td>46.000000</td>\n",
       "      <td>47.000000</td>\n",
       "      <td>50.000000</td>\n",
       "      <td>0.974797</td>\n",
       "      <td>97500.000000</td>\n",
       "      <td>-33.211420</td>\n",
       "      <td>151.563810</td>\n",
       "      <td>78.540000</td>\n",
       "    </tr>\n",
       "  </tbody>\n",
       "</table>\n",
       "</div>"
      ],
      "text/plain": [
       "             Target      num_bath       num_bed   num_parking  property_size  \\\n",
       "count  1.001800e+04  10018.000000  10018.000000  10018.000000   10018.000000   \n",
       "mean   1.633422e+06      2.039629      3.721701      1.950988       0.435324   \n",
       "std    1.100330e+06      1.018020      1.233622      1.216215       0.208062   \n",
       "min    2.725000e+05      0.000000      0.000000      0.000000       0.000000   \n",
       "25%    1.000000e+06      1.000000      3.000000      1.000000       0.308943   \n",
       "50%    1.360000e+06      2.000000      4.000000      2.000000       0.444715   \n",
       "75%    2.000000e+06      2.000000      4.000000      2.000000       0.553659   \n",
       "max    1.700000e+07     46.000000     47.000000     50.000000       0.974797   \n",
       "\n",
       "       suburb_median_income    suburb_lat    suburb_lng   km_from_cbd  \n",
       "count          10018.000000  10018.000000  10018.000000  10018.000000  \n",
       "mean           40308.808545    -33.785384    151.101469     26.506262  \n",
       "std            11206.210816      0.198342      0.206479     18.047546  \n",
       "min            14248.000000    -34.106240    150.553840      0.310000  \n",
       "25%            32500.000000    -33.921480    150.956810     12.680000  \n",
       "50%            39260.000000    -33.813780    151.115060     21.620000  \n",
       "75%            45552.000000    -33.723380    151.227530     39.760000  \n",
       "max            97500.000000    -33.211420    151.563810     78.540000  "
      ]
     },
     "execution_count": 16,
     "metadata": {},
     "output_type": "execute_result"
    }
   ],
   "source": [
    "scale_feature = 'property_size'\n",
    "\n",
    "#the minimum value with space for outliers (With a small buffer)\n",
    "MIN_PS = 40\n",
    "\n",
    "#the maximum value with space for outliers (With a small buffer)\n",
    "MAX_PS = 1270\n",
    "\n",
    "#scale features\n",
    "data_frame[scale_feature] = [(X - MIN_PS) / (MAX_PS - MIN_PS) for X in data_frame[scale_feature]]\n",
    "\n",
    "data_frame.describe()"
   ]
  },
  {
   "cell_type": "code",
   "execution_count": 17,
   "metadata": {},
   "outputs": [
    {
     "data": {
      "application/vnd.microsoft.datawrangler.viewer.v0+json": {
       "columns": [
        {
         "name": "index",
         "rawType": "object",
         "type": "string"
        },
        {
         "name": "Target",
         "rawType": "float64",
         "type": "float"
        },
        {
         "name": "num_bath",
         "rawType": "float64",
         "type": "float"
        },
        {
         "name": "num_bed",
         "rawType": "float64",
         "type": "float"
        },
        {
         "name": "num_parking",
         "rawType": "float64",
         "type": "float"
        },
        {
         "name": "property_size",
         "rawType": "float64",
         "type": "float"
        },
        {
         "name": "suburb_median_income",
         "rawType": "float64",
         "type": "float"
        },
        {
         "name": "suburb_lat",
         "rawType": "float64",
         "type": "float"
        },
        {
         "name": "suburb_lng",
         "rawType": "float64",
         "type": "float"
        },
        {
         "name": "km_from_cbd",
         "rawType": "float64",
         "type": "float"
        }
       ],
       "conversionMethod": "pd.DataFrame",
       "ref": "f2ae2560-5310-45a3-af16-cbc5f7cf5260",
       "rows": [
        [
         "count",
         "10018.0",
         "10018.0",
         "10018.0",
         "10018.0",
         "10018.0",
         "10018.0",
         "10018.0",
         "10018.0",
         "10018.0"
        ],
        [
         "mean",
         "1633421.8358953884",
         "2.0396286683968854",
         "3.72170093831104",
         "1.9509882212018368",
         "0.4353243835892142",
         "40308.808544619686",
         "-33.785383908963865",
         "151.1014693431823",
         "0.32076207746496943"
        ],
        [
         "std",
         "1100330.4295612425",
         "1.018020098769222",
         "1.233621952744527",
         "1.2162149964135691",
         "0.20806205516195253",
         "11206.210816168994",
         "0.19834228045674973",
         "0.20647937547272222",
         "0.22090019538812627"
        ],
        [
         "min",
         "272500.0",
         "0.0",
         "0.0",
         "0.0",
         "0.0",
         "14248.0",
         "-34.10624",
         "150.55384",
         "0.00012239902080783365"
        ],
        [
         "25%",
         "1000000.0",
         "1.0",
         "3.0",
         "1.0",
         "0.3089430894308943",
         "32500.0",
         "-33.92148",
         "150.95681",
         "0.1515299877600979"
        ],
        [
         "50%",
         "1360000.0",
         "2.0",
         "4.0",
         "2.0",
         "0.44471544715447153",
         "39260.0",
         "-33.81378",
         "151.11506",
         "0.2609547123623011"
        ],
        [
         "75%",
         "2000000.0",
         "2.0",
         "4.0",
         "2.0",
         "0.5536585365853659",
         "45552.0",
         "-33.72338",
         "151.22753",
         "0.48298653610771114"
        ],
        [
         "max",
         "17000000.0",
         "46.0",
         "47.0",
         "50.0",
         "0.9747967479674797",
         "97500.0",
         "-33.21142",
         "151.56381",
         "0.9576499388004897"
        ]
       ],
       "shape": {
        "columns": 9,
        "rows": 8
       }
      },
      "text/html": [
       "<div>\n",
       "<style scoped>\n",
       "    .dataframe tbody tr th:only-of-type {\n",
       "        vertical-align: middle;\n",
       "    }\n",
       "\n",
       "    .dataframe tbody tr th {\n",
       "        vertical-align: top;\n",
       "    }\n",
       "\n",
       "    .dataframe thead th {\n",
       "        text-align: right;\n",
       "    }\n",
       "</style>\n",
       "<table border=\"1\" class=\"dataframe\">\n",
       "  <thead>\n",
       "    <tr style=\"text-align: right;\">\n",
       "      <th></th>\n",
       "      <th>Target</th>\n",
       "      <th>num_bath</th>\n",
       "      <th>num_bed</th>\n",
       "      <th>num_parking</th>\n",
       "      <th>property_size</th>\n",
       "      <th>suburb_median_income</th>\n",
       "      <th>suburb_lat</th>\n",
       "      <th>suburb_lng</th>\n",
       "      <th>km_from_cbd</th>\n",
       "    </tr>\n",
       "  </thead>\n",
       "  <tbody>\n",
       "    <tr>\n",
       "      <th>count</th>\n",
       "      <td>1.001800e+04</td>\n",
       "      <td>10018.000000</td>\n",
       "      <td>10018.000000</td>\n",
       "      <td>10018.000000</td>\n",
       "      <td>10018.000000</td>\n",
       "      <td>10018.000000</td>\n",
       "      <td>10018.000000</td>\n",
       "      <td>10018.000000</td>\n",
       "      <td>10018.000000</td>\n",
       "    </tr>\n",
       "    <tr>\n",
       "      <th>mean</th>\n",
       "      <td>1.633422e+06</td>\n",
       "      <td>2.039629</td>\n",
       "      <td>3.721701</td>\n",
       "      <td>1.950988</td>\n",
       "      <td>0.435324</td>\n",
       "      <td>40308.808545</td>\n",
       "      <td>-33.785384</td>\n",
       "      <td>151.101469</td>\n",
       "      <td>0.320762</td>\n",
       "    </tr>\n",
       "    <tr>\n",
       "      <th>std</th>\n",
       "      <td>1.100330e+06</td>\n",
       "      <td>1.018020</td>\n",
       "      <td>1.233622</td>\n",
       "      <td>1.216215</td>\n",
       "      <td>0.208062</td>\n",
       "      <td>11206.210816</td>\n",
       "      <td>0.198342</td>\n",
       "      <td>0.206479</td>\n",
       "      <td>0.220900</td>\n",
       "    </tr>\n",
       "    <tr>\n",
       "      <th>min</th>\n",
       "      <td>2.725000e+05</td>\n",
       "      <td>0.000000</td>\n",
       "      <td>0.000000</td>\n",
       "      <td>0.000000</td>\n",
       "      <td>0.000000</td>\n",
       "      <td>14248.000000</td>\n",
       "      <td>-34.106240</td>\n",
       "      <td>150.553840</td>\n",
       "      <td>0.000122</td>\n",
       "    </tr>\n",
       "    <tr>\n",
       "      <th>25%</th>\n",
       "      <td>1.000000e+06</td>\n",
       "      <td>1.000000</td>\n",
       "      <td>3.000000</td>\n",
       "      <td>1.000000</td>\n",
       "      <td>0.308943</td>\n",
       "      <td>32500.000000</td>\n",
       "      <td>-33.921480</td>\n",
       "      <td>150.956810</td>\n",
       "      <td>0.151530</td>\n",
       "    </tr>\n",
       "    <tr>\n",
       "      <th>50%</th>\n",
       "      <td>1.360000e+06</td>\n",
       "      <td>2.000000</td>\n",
       "      <td>4.000000</td>\n",
       "      <td>2.000000</td>\n",
       "      <td>0.444715</td>\n",
       "      <td>39260.000000</td>\n",
       "      <td>-33.813780</td>\n",
       "      <td>151.115060</td>\n",
       "      <td>0.260955</td>\n",
       "    </tr>\n",
       "    <tr>\n",
       "      <th>75%</th>\n",
       "      <td>2.000000e+06</td>\n",
       "      <td>2.000000</td>\n",
       "      <td>4.000000</td>\n",
       "      <td>2.000000</td>\n",
       "      <td>0.553659</td>\n",
       "      <td>45552.000000</td>\n",
       "      <td>-33.723380</td>\n",
       "      <td>151.227530</td>\n",
       "      <td>0.482987</td>\n",
       "    </tr>\n",
       "    <tr>\n",
       "      <th>max</th>\n",
       "      <td>1.700000e+07</td>\n",
       "      <td>46.000000</td>\n",
       "      <td>47.000000</td>\n",
       "      <td>50.000000</td>\n",
       "      <td>0.974797</td>\n",
       "      <td>97500.000000</td>\n",
       "      <td>-33.211420</td>\n",
       "      <td>151.563810</td>\n",
       "      <td>0.957650</td>\n",
       "    </tr>\n",
       "  </tbody>\n",
       "</table>\n",
       "</div>"
      ],
      "text/plain": [
       "             Target      num_bath       num_bed   num_parking  property_size  \\\n",
       "count  1.001800e+04  10018.000000  10018.000000  10018.000000   10018.000000   \n",
       "mean   1.633422e+06      2.039629      3.721701      1.950988       0.435324   \n",
       "std    1.100330e+06      1.018020      1.233622      1.216215       0.208062   \n",
       "min    2.725000e+05      0.000000      0.000000      0.000000       0.000000   \n",
       "25%    1.000000e+06      1.000000      3.000000      1.000000       0.308943   \n",
       "50%    1.360000e+06      2.000000      4.000000      2.000000       0.444715   \n",
       "75%    2.000000e+06      2.000000      4.000000      2.000000       0.553659   \n",
       "max    1.700000e+07     46.000000     47.000000     50.000000       0.974797   \n",
       "\n",
       "       suburb_median_income    suburb_lat    suburb_lng   km_from_cbd  \n",
       "count          10018.000000  10018.000000  10018.000000  10018.000000  \n",
       "mean           40308.808545    -33.785384    151.101469      0.320762  \n",
       "std            11206.210816      0.198342      0.206479      0.220900  \n",
       "min            14248.000000    -34.106240    150.553840      0.000122  \n",
       "25%            32500.000000    -33.921480    150.956810      0.151530  \n",
       "50%            39260.000000    -33.813780    151.115060      0.260955  \n",
       "75%            45552.000000    -33.723380    151.227530      0.482987  \n",
       "max            97500.000000    -33.211420    151.563810      0.957650  "
      ]
     },
     "execution_count": 17,
     "metadata": {},
     "output_type": "execute_result"
    }
   ],
   "source": [
    "scale_feature = 'km_from_cbd'\n",
    "\n",
    "#the minimum value with space for outliers\n",
    "MIN_KM = 0.3\n",
    "\n",
    "#the maximum value with space for outliers\n",
    "MAX_KM = 82\n",
    "\n",
    "#scale features\n",
    "data_frame[scale_feature] = [(X - MIN_KM) / (MAX_KM - MIN_KM) for X in data_frame[scale_feature]]\n",
    "\n",
    "data_frame.describe()"
   ]
  },
  {
   "cell_type": "code",
   "execution_count": 18,
   "metadata": {},
   "outputs": [],
   "source": [
    "data_frame.to_csv('../Feature_Engineering/wrangled_data.csv_1', index=False)"
   ]
  }
 ],
 "metadata": {
  "kernelspec": {
   "display_name": "Python 3",
   "language": "python",
   "name": "python3"
  },
  "language_info": {
   "codemirror_mode": {
    "name": "ipython",
    "version": 3
   },
   "file_extension": ".py",
   "mimetype": "text/x-python",
   "name": "python",
   "nbconvert_exporter": "python",
   "pygments_lexer": "ipython3",
   "version": "3.12.1"
  }
 },
 "nbformat": 4,
 "nbformat_minor": 2
}
