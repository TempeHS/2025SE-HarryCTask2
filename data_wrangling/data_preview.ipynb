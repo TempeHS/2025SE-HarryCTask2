{
 "cells": [
  {
   "cell_type": "markdown",
   "metadata": {},
   "source": [
    "### Loading required dependencies\n",
    "\n",
    "- Pandas is a library for data anlysis and manipulation\n",
    "\n",
    "- Matplotlib is for data visualisation"
   ]
  },
  {
   "cell_type": "code",
   "execution_count": 11,
   "metadata": {},
   "outputs": [],
   "source": [
    "# Import frameworks\n",
    "import numpy as np\n",
    "import pandas as pd\n",
    "import matplotlib.pyplot as plt\n",
    "plt.style.use('../style_Matplotlib_charts.mplstyle')"
   ]
  },
  {
   "cell_type": "markdown",
   "metadata": {},
   "source": [
    "### Storing data as local variable\n",
    "\n",
    "- The data frame is an object of the Pandas library, and the CSV becomes structured.\n",
    "\n",
    "- The data gets loaded into memory ready for preprocessing"
   ]
  },
  {
   "cell_type": "code",
   "execution_count": 12,
   "metadata": {},
   "outputs": [],
   "source": [
    "data_frame = pd.read_csv(\"real_estate_sydney.csv\")"
   ]
  },
  {
   "cell_type": "markdown",
   "metadata": {},
   "source": [
    "### Data Snapshot\n",
    "\n",
    "- Provides the first 5 `head()` and last 5 rows `tail()` of the data set to gain an insight into the data that is being wrangled\n"
   ]
  },
  {
   "cell_type": "code",
   "execution_count": 18,
   "metadata": {},
   "outputs": [
    {
     "data": {
      "application/vnd.microsoft.datawrangler.viewer.v0+json": {
       "columns": [
        {
         "name": "index",
         "rawType": "int64",
         "type": "integer"
        },
        {
         "name": "Target",
         "rawType": "int64",
         "type": "integer"
        },
        {
         "name": "date_sold",
         "rawType": "object",
         "type": "string"
        },
        {
         "name": "suburb",
         "rawType": "object",
         "type": "string"
        },
        {
         "name": "num_bath",
         "rawType": "int64",
         "type": "integer"
        },
        {
         "name": "num_bed",
         "rawType": "int64",
         "type": "integer"
        },
        {
         "name": "num_parking",
         "rawType": "int64",
         "type": "integer"
        },
        {
         "name": "property_size",
         "rawType": "int64",
         "type": "integer"
        },
        {
         "name": "type",
         "rawType": "object",
         "type": "string"
        },
        {
         "name": "suburb_population",
         "rawType": "int64",
         "type": "integer"
        },
        {
         "name": "suburb_median_income",
         "rawType": "int64",
         "type": "integer"
        },
        {
         "name": "suburb_sqkm",
         "rawType": "float64",
         "type": "float"
        },
        {
         "name": "suburb_lat",
         "rawType": "float64",
         "type": "float"
        },
        {
         "name": "suburb_lng",
         "rawType": "float64",
         "type": "float"
        },
        {
         "name": "suburb_elevation",
         "rawType": "int64",
         "type": "integer"
        },
        {
         "name": "cash_rate",
         "rawType": "float64",
         "type": "float"
        },
        {
         "name": "property_inflation_index",
         "rawType": "float64",
         "type": "float"
        },
        {
         "name": "km_from_cbd",
         "rawType": "float64",
         "type": "float"
        }
       ],
       "conversionMethod": "pd.DataFrame",
       "ref": "80695230-138b-453b-890b-501fe598ae4e",
       "rows": [
        [
         "11155",
         "1900000",
         "31/12/21",
         "Kellyville",
         "3",
         "4",
         "2",
         "540",
         "House",
         "27971",
         "46228",
         "18.645",
         "-33.69583",
         "150.95622",
         "78",
         "0.1",
         "220.1",
         "30.08"
        ],
        [
         "11156",
         "1300000",
         "31/12/21",
         "Seven Hills",
         "3",
         "7",
         "2",
         "1208",
         "House",
         "19326",
         "33540",
         "9.629",
         "-33.77743",
         "150.94272",
         "38",
         "0.1",
         "220.1",
         "26.58"
        ],
        [
         "11157",
         "1025000",
         "31/12/21",
         "Sydney",
         "2",
         "2",
         "1",
         "129",
         "Apartment / Unit / Flat",
         "17252",
         "35412",
         "2.94",
         "-33.86794",
         "151.20998",
         "65",
         "0.1",
         "220.1",
         "0.31"
        ],
        [
         "11158",
         "1087500",
         "1/1/22",
         "Prestons",
         "2",
         "4",
         "2",
         "384",
         "House",
         "15313",
         "36244",
         "9.215",
         "-33.94155",
         "150.87334",
         "28",
         "0.1",
         "220.1",
         "32.26"
        ],
        [
         "11159",
         "1000000",
         "1/1/22",
         "Ourimbah",
         "2",
         "3",
         "2",
         "667",
         "House",
         "3951",
         "37180",
         "87.154",
         "-33.31517",
         "151.32611",
         "191",
         "0.1",
         "220.1",
         "61.95"
        ]
       ],
       "shape": {
        "columns": 17,
        "rows": 5
       }
      },
      "text/html": [
       "<div>\n",
       "<style scoped>\n",
       "    .dataframe tbody tr th:only-of-type {\n",
       "        vertical-align: middle;\n",
       "    }\n",
       "\n",
       "    .dataframe tbody tr th {\n",
       "        vertical-align: top;\n",
       "    }\n",
       "\n",
       "    .dataframe thead th {\n",
       "        text-align: right;\n",
       "    }\n",
       "</style>\n",
       "<table border=\"1\" class=\"dataframe\">\n",
       "  <thead>\n",
       "    <tr style=\"text-align: right;\">\n",
       "      <th></th>\n",
       "      <th>Target</th>\n",
       "      <th>date_sold</th>\n",
       "      <th>suburb</th>\n",
       "      <th>num_bath</th>\n",
       "      <th>num_bed</th>\n",
       "      <th>num_parking</th>\n",
       "      <th>property_size</th>\n",
       "      <th>type</th>\n",
       "      <th>suburb_population</th>\n",
       "      <th>suburb_median_income</th>\n",
       "      <th>suburb_sqkm</th>\n",
       "      <th>suburb_lat</th>\n",
       "      <th>suburb_lng</th>\n",
       "      <th>suburb_elevation</th>\n",
       "      <th>cash_rate</th>\n",
       "      <th>property_inflation_index</th>\n",
       "      <th>km_from_cbd</th>\n",
       "    </tr>\n",
       "  </thead>\n",
       "  <tbody>\n",
       "    <tr>\n",
       "      <th>11155</th>\n",
       "      <td>1900000</td>\n",
       "      <td>31/12/21</td>\n",
       "      <td>Kellyville</td>\n",
       "      <td>3</td>\n",
       "      <td>4</td>\n",
       "      <td>2</td>\n",
       "      <td>540</td>\n",
       "      <td>House</td>\n",
       "      <td>27971</td>\n",
       "      <td>46228</td>\n",
       "      <td>18.645</td>\n",
       "      <td>-33.69583</td>\n",
       "      <td>150.95622</td>\n",
       "      <td>78</td>\n",
       "      <td>0.1</td>\n",
       "      <td>220.1</td>\n",
       "      <td>30.08</td>\n",
       "    </tr>\n",
       "    <tr>\n",
       "      <th>11156</th>\n",
       "      <td>1300000</td>\n",
       "      <td>31/12/21</td>\n",
       "      <td>Seven Hills</td>\n",
       "      <td>3</td>\n",
       "      <td>7</td>\n",
       "      <td>2</td>\n",
       "      <td>1208</td>\n",
       "      <td>House</td>\n",
       "      <td>19326</td>\n",
       "      <td>33540</td>\n",
       "      <td>9.629</td>\n",
       "      <td>-33.77743</td>\n",
       "      <td>150.94272</td>\n",
       "      <td>38</td>\n",
       "      <td>0.1</td>\n",
       "      <td>220.1</td>\n",
       "      <td>26.58</td>\n",
       "    </tr>\n",
       "    <tr>\n",
       "      <th>11157</th>\n",
       "      <td>1025000</td>\n",
       "      <td>31/12/21</td>\n",
       "      <td>Sydney</td>\n",
       "      <td>2</td>\n",
       "      <td>2</td>\n",
       "      <td>1</td>\n",
       "      <td>129</td>\n",
       "      <td>Apartment / Unit / Flat</td>\n",
       "      <td>17252</td>\n",
       "      <td>35412</td>\n",
       "      <td>2.940</td>\n",
       "      <td>-33.86794</td>\n",
       "      <td>151.20998</td>\n",
       "      <td>65</td>\n",
       "      <td>0.1</td>\n",
       "      <td>220.1</td>\n",
       "      <td>0.31</td>\n",
       "    </tr>\n",
       "    <tr>\n",
       "      <th>11158</th>\n",
       "      <td>1087500</td>\n",
       "      <td>1/1/22</td>\n",
       "      <td>Prestons</td>\n",
       "      <td>2</td>\n",
       "      <td>4</td>\n",
       "      <td>2</td>\n",
       "      <td>384</td>\n",
       "      <td>House</td>\n",
       "      <td>15313</td>\n",
       "      <td>36244</td>\n",
       "      <td>9.215</td>\n",
       "      <td>-33.94155</td>\n",
       "      <td>150.87334</td>\n",
       "      <td>28</td>\n",
       "      <td>0.1</td>\n",
       "      <td>220.1</td>\n",
       "      <td>32.26</td>\n",
       "    </tr>\n",
       "    <tr>\n",
       "      <th>11159</th>\n",
       "      <td>1000000</td>\n",
       "      <td>1/1/22</td>\n",
       "      <td>Ourimbah</td>\n",
       "      <td>2</td>\n",
       "      <td>3</td>\n",
       "      <td>2</td>\n",
       "      <td>667</td>\n",
       "      <td>House</td>\n",
       "      <td>3951</td>\n",
       "      <td>37180</td>\n",
       "      <td>87.154</td>\n",
       "      <td>-33.31517</td>\n",
       "      <td>151.32611</td>\n",
       "      <td>191</td>\n",
       "      <td>0.1</td>\n",
       "      <td>220.1</td>\n",
       "      <td>61.95</td>\n",
       "    </tr>\n",
       "  </tbody>\n",
       "</table>\n",
       "</div>"
      ],
      "text/plain": [
       "        Target date_sold       suburb  num_bath  num_bed  num_parking  \\\n",
       "11155  1900000  31/12/21   Kellyville         3        4            2   \n",
       "11156  1300000  31/12/21  Seven Hills         3        7            2   \n",
       "11157  1025000  31/12/21       Sydney         2        2            1   \n",
       "11158  1087500    1/1/22     Prestons         2        4            2   \n",
       "11159  1000000    1/1/22     Ourimbah         2        3            2   \n",
       "\n",
       "       property_size                     type  suburb_population  \\\n",
       "11155            540                    House              27971   \n",
       "11156           1208                    House              19326   \n",
       "11157            129  Apartment / Unit / Flat              17252   \n",
       "11158            384                    House              15313   \n",
       "11159            667                    House               3951   \n",
       "\n",
       "       suburb_median_income  suburb_sqkm  suburb_lat  suburb_lng  \\\n",
       "11155                 46228       18.645   -33.69583   150.95622   \n",
       "11156                 33540        9.629   -33.77743   150.94272   \n",
       "11157                 35412        2.940   -33.86794   151.20998   \n",
       "11158                 36244        9.215   -33.94155   150.87334   \n",
       "11159                 37180       87.154   -33.31517   151.32611   \n",
       "\n",
       "       suburb_elevation  cash_rate  property_inflation_index  km_from_cbd  \n",
       "11155                78        0.1                     220.1        30.08  \n",
       "11156                38        0.1                     220.1        26.58  \n",
       "11157                65        0.1                     220.1         0.31  \n",
       "11158                28        0.1                     220.1        32.26  \n",
       "11159               191        0.1                     220.1        61.95  "
      ]
     },
     "execution_count": 18,
     "metadata": {},
     "output_type": "execute_result"
    }
   ],
   "source": [
    "# Target = The price of the house\n",
    "data_frame.tail()"
   ]
  },
  {
   "cell_type": "markdown",
   "metadata": {},
   "source": [
    "### Data Summary\n",
    "\n",
    "- `info()` fnction provides a summary of each column, providing information about data types, number of rows, and the prescence of null values"
   ]
  },
  {
   "cell_type": "code",
   "execution_count": 14,
   "metadata": {},
   "outputs": [
    {
     "name": "stdout",
     "output_type": "stream",
     "text": [
      "<class 'pandas.core.frame.DataFrame'>\n",
      "RangeIndex: 11160 entries, 0 to 11159\n",
      "Data columns (total 17 columns):\n",
      " #   Column                    Non-Null Count  Dtype  \n",
      "---  ------                    --------------  -----  \n",
      " 0   Target                    11160 non-null  int64  \n",
      " 1   date_sold                 11160 non-null  object \n",
      " 2   suburb                    11160 non-null  object \n",
      " 3   num_bath                  11160 non-null  int64  \n",
      " 4   num_bed                   11160 non-null  int64  \n",
      " 5   num_parking               11160 non-null  int64  \n",
      " 6   property_size             11160 non-null  int64  \n",
      " 7   type                      11160 non-null  object \n",
      " 8   suburb_population         11160 non-null  int64  \n",
      " 9   suburb_median_income      11160 non-null  int64  \n",
      " 10  suburb_sqkm               11160 non-null  float64\n",
      " 11  suburb_lat                11160 non-null  float64\n",
      " 12  suburb_lng                11160 non-null  float64\n",
      " 13  suburb_elevation          11160 non-null  int64  \n",
      " 14  cash_rate                 11160 non-null  float64\n",
      " 15  property_inflation_index  11160 non-null  float64\n",
      " 16  km_from_cbd               11160 non-null  float64\n",
      "dtypes: float64(6), int64(8), object(3)\n",
      "memory usage: 1.4+ MB\n"
     ]
    }
   ],
   "source": [
    "data_frame.info()"
   ]
  },
  {
   "cell_type": "markdown",
   "metadata": {},
   "source": [
    "### Statistics for the numerical colums\n",
    "\n",
    "- The `describe()` function provides basic statistical information such as ; IQR, mean, min, max, SD etc"
   ]
  },
  {
   "cell_type": "code",
   "execution_count": 15,
   "metadata": {},
   "outputs": [
    {
     "data": {
      "application/vnd.microsoft.datawrangler.viewer.v0+json": {
       "columns": [
        {
         "name": "index",
         "rawType": "object",
         "type": "string"
        },
        {
         "name": "Target",
         "rawType": "float64",
         "type": "float"
        },
        {
         "name": "num_bath",
         "rawType": "float64",
         "type": "float"
        },
        {
         "name": "num_bed",
         "rawType": "float64",
         "type": "float"
        },
        {
         "name": "num_parking",
         "rawType": "float64",
         "type": "float"
        },
        {
         "name": "property_size",
         "rawType": "float64",
         "type": "float"
        },
        {
         "name": "suburb_population",
         "rawType": "float64",
         "type": "float"
        },
        {
         "name": "suburb_median_income",
         "rawType": "float64",
         "type": "float"
        },
        {
         "name": "suburb_sqkm",
         "rawType": "float64",
         "type": "float"
        },
        {
         "name": "suburb_lat",
         "rawType": "float64",
         "type": "float"
        },
        {
         "name": "suburb_lng",
         "rawType": "float64",
         "type": "float"
        },
        {
         "name": "suburb_elevation",
         "rawType": "float64",
         "type": "float"
        },
        {
         "name": "cash_rate",
         "rawType": "float64",
         "type": "float"
        },
        {
         "name": "property_inflation_index",
         "rawType": "float64",
         "type": "float"
        },
        {
         "name": "km_from_cbd",
         "rawType": "float64",
         "type": "float"
        }
       ],
       "conversionMethod": "pd.DataFrame",
       "ref": "0759bc99-5a38-4317-a06e-7991dc8bfcab",
       "rows": [
        [
         "count",
         "11160.0",
         "11160.0",
         "11160.0",
         "11160.0",
         "11160.0",
         "11160.0",
         "11160.0",
         "11160.0",
         "11160.0",
         "11160.0",
         "11160.0",
         "11160.0",
         "11160.0",
         "11160.0"
        ],
        [
         "mean",
         "1675395.2672939068",
         "2.0735663082437275",
         "3.7589605734767026",
         "2.01747311827957",
         "723.0123655913978",
         "9311.560035842294",
         "40168.24336917563",
         "5.054876523297492",
         "-33.781413240143365",
         "151.09667629569893",
         "55.60672043010753",
         "0.631361111111111",
         "188.48968637992832",
         "27.38182616487455"
        ],
        [
         "std",
         "1290370.9630755258",
         "1.184881087001364",
         "1.5597432452768292",
         "1.4545598949616276",
         "1048.9836624588224",
         "7541.636245973474",
         "11089.955119521783",
         "5.824663065229384",
         "0.20247780299334706",
         "0.21345619133897156",
         "52.802315256599925",
         "0.6586238919271874",
         "24.441552352426207",
         "18.470113099509216"
        ],
        [
         "min",
         "225000.0",
         "0.0",
         "0.0",
         "0.0",
         "7.0",
         "22.0",
         "14248.0",
         "0.089",
         "-34.10624",
         "150.55384",
         "0.0",
         "0.1",
         "150.9",
         "0.31"
        ],
        [
         "25%",
         "1002000.0",
         "1.0",
         "3.0",
         "1.0",
         "430.0",
         "3977.0",
         "32448.0",
         "1.776",
         "-33.92148",
         "150.95102",
         "21.0",
         "0.1",
         "167.6",
         "12.96"
        ],
        [
         "50%",
         "1388000.0",
         "2.0",
         "4.0",
         "2.0",
         "600.0",
         "7457.0",
         "39104.0",
         "3.566",
         "-33.80918",
         "151.10947",
         "40.0",
         "0.11",
         "176.6",
         "22.31"
        ],
        [
         "75%",
         "2020000.0",
         "3.0",
         "4.0",
         "2.0",
         "765.0",
         "12158.25",
         "45552.0",
         "6.568",
         "-33.71551",
         "151.22781",
         "75.0",
         "1.5",
         "220.1",
         "40.99"
        ],
        [
         "max",
         "60000000.0",
         "46.0",
         "47.0",
         "50.0",
         "59100.0",
         "47176.0",
         "97500.0",
         "87.154",
         "-33.16376",
         "151.5733",
         "405.0",
         "2.0",
         "220.1",
         "84.79"
        ]
       ],
       "shape": {
        "columns": 14,
        "rows": 8
       }
      },
      "text/html": [
       "<div>\n",
       "<style scoped>\n",
       "    .dataframe tbody tr th:only-of-type {\n",
       "        vertical-align: middle;\n",
       "    }\n",
       "\n",
       "    .dataframe tbody tr th {\n",
       "        vertical-align: top;\n",
       "    }\n",
       "\n",
       "    .dataframe thead th {\n",
       "        text-align: right;\n",
       "    }\n",
       "</style>\n",
       "<table border=\"1\" class=\"dataframe\">\n",
       "  <thead>\n",
       "    <tr style=\"text-align: right;\">\n",
       "      <th></th>\n",
       "      <th>Target</th>\n",
       "      <th>num_bath</th>\n",
       "      <th>num_bed</th>\n",
       "      <th>num_parking</th>\n",
       "      <th>property_size</th>\n",
       "      <th>suburb_population</th>\n",
       "      <th>suburb_median_income</th>\n",
       "      <th>suburb_sqkm</th>\n",
       "      <th>suburb_lat</th>\n",
       "      <th>suburb_lng</th>\n",
       "      <th>suburb_elevation</th>\n",
       "      <th>cash_rate</th>\n",
       "      <th>property_inflation_index</th>\n",
       "      <th>km_from_cbd</th>\n",
       "    </tr>\n",
       "  </thead>\n",
       "  <tbody>\n",
       "    <tr>\n",
       "      <th>count</th>\n",
       "      <td>1.116000e+04</td>\n",
       "      <td>11160.000000</td>\n",
       "      <td>11160.000000</td>\n",
       "      <td>11160.000000</td>\n",
       "      <td>11160.000000</td>\n",
       "      <td>11160.000000</td>\n",
       "      <td>11160.000000</td>\n",
       "      <td>11160.000000</td>\n",
       "      <td>11160.000000</td>\n",
       "      <td>11160.000000</td>\n",
       "      <td>11160.000000</td>\n",
       "      <td>11160.000000</td>\n",
       "      <td>11160.000000</td>\n",
       "      <td>11160.000000</td>\n",
       "    </tr>\n",
       "    <tr>\n",
       "      <th>mean</th>\n",
       "      <td>1.675395e+06</td>\n",
       "      <td>2.073566</td>\n",
       "      <td>3.758961</td>\n",
       "      <td>2.017473</td>\n",
       "      <td>723.012366</td>\n",
       "      <td>9311.560036</td>\n",
       "      <td>40168.243369</td>\n",
       "      <td>5.054877</td>\n",
       "      <td>-33.781413</td>\n",
       "      <td>151.096676</td>\n",
       "      <td>55.606720</td>\n",
       "      <td>0.631361</td>\n",
       "      <td>188.489686</td>\n",
       "      <td>27.381826</td>\n",
       "    </tr>\n",
       "    <tr>\n",
       "      <th>std</th>\n",
       "      <td>1.290371e+06</td>\n",
       "      <td>1.184881</td>\n",
       "      <td>1.559743</td>\n",
       "      <td>1.454560</td>\n",
       "      <td>1048.983662</td>\n",
       "      <td>7541.636246</td>\n",
       "      <td>11089.955120</td>\n",
       "      <td>5.824663</td>\n",
       "      <td>0.202478</td>\n",
       "      <td>0.213456</td>\n",
       "      <td>52.802315</td>\n",
       "      <td>0.658624</td>\n",
       "      <td>24.441552</td>\n",
       "      <td>18.470113</td>\n",
       "    </tr>\n",
       "    <tr>\n",
       "      <th>min</th>\n",
       "      <td>2.250000e+05</td>\n",
       "      <td>0.000000</td>\n",
       "      <td>0.000000</td>\n",
       "      <td>0.000000</td>\n",
       "      <td>7.000000</td>\n",
       "      <td>22.000000</td>\n",
       "      <td>14248.000000</td>\n",
       "      <td>0.089000</td>\n",
       "      <td>-34.106240</td>\n",
       "      <td>150.553840</td>\n",
       "      <td>0.000000</td>\n",
       "      <td>0.100000</td>\n",
       "      <td>150.900000</td>\n",
       "      <td>0.310000</td>\n",
       "    </tr>\n",
       "    <tr>\n",
       "      <th>25%</th>\n",
       "      <td>1.002000e+06</td>\n",
       "      <td>1.000000</td>\n",
       "      <td>3.000000</td>\n",
       "      <td>1.000000</td>\n",
       "      <td>430.000000</td>\n",
       "      <td>3977.000000</td>\n",
       "      <td>32448.000000</td>\n",
       "      <td>1.776000</td>\n",
       "      <td>-33.921480</td>\n",
       "      <td>150.951020</td>\n",
       "      <td>21.000000</td>\n",
       "      <td>0.100000</td>\n",
       "      <td>167.600000</td>\n",
       "      <td>12.960000</td>\n",
       "    </tr>\n",
       "    <tr>\n",
       "      <th>50%</th>\n",
       "      <td>1.388000e+06</td>\n",
       "      <td>2.000000</td>\n",
       "      <td>4.000000</td>\n",
       "      <td>2.000000</td>\n",
       "      <td>600.000000</td>\n",
       "      <td>7457.000000</td>\n",
       "      <td>39104.000000</td>\n",
       "      <td>3.566000</td>\n",
       "      <td>-33.809180</td>\n",
       "      <td>151.109470</td>\n",
       "      <td>40.000000</td>\n",
       "      <td>0.110000</td>\n",
       "      <td>176.600000</td>\n",
       "      <td>22.310000</td>\n",
       "    </tr>\n",
       "    <tr>\n",
       "      <th>75%</th>\n",
       "      <td>2.020000e+06</td>\n",
       "      <td>3.000000</td>\n",
       "      <td>4.000000</td>\n",
       "      <td>2.000000</td>\n",
       "      <td>765.000000</td>\n",
       "      <td>12158.250000</td>\n",
       "      <td>45552.000000</td>\n",
       "      <td>6.568000</td>\n",
       "      <td>-33.715510</td>\n",
       "      <td>151.227810</td>\n",
       "      <td>75.000000</td>\n",
       "      <td>1.500000</td>\n",
       "      <td>220.100000</td>\n",
       "      <td>40.990000</td>\n",
       "    </tr>\n",
       "    <tr>\n",
       "      <th>max</th>\n",
       "      <td>6.000000e+07</td>\n",
       "      <td>46.000000</td>\n",
       "      <td>47.000000</td>\n",
       "      <td>50.000000</td>\n",
       "      <td>59100.000000</td>\n",
       "      <td>47176.000000</td>\n",
       "      <td>97500.000000</td>\n",
       "      <td>87.154000</td>\n",
       "      <td>-33.163760</td>\n",
       "      <td>151.573300</td>\n",
       "      <td>405.000000</td>\n",
       "      <td>2.000000</td>\n",
       "      <td>220.100000</td>\n",
       "      <td>84.790000</td>\n",
       "    </tr>\n",
       "  </tbody>\n",
       "</table>\n",
       "</div>"
      ],
      "text/plain": [
       "             Target      num_bath       num_bed   num_parking  property_size  \\\n",
       "count  1.116000e+04  11160.000000  11160.000000  11160.000000   11160.000000   \n",
       "mean   1.675395e+06      2.073566      3.758961      2.017473     723.012366   \n",
       "std    1.290371e+06      1.184881      1.559743      1.454560    1048.983662   \n",
       "min    2.250000e+05      0.000000      0.000000      0.000000       7.000000   \n",
       "25%    1.002000e+06      1.000000      3.000000      1.000000     430.000000   \n",
       "50%    1.388000e+06      2.000000      4.000000      2.000000     600.000000   \n",
       "75%    2.020000e+06      3.000000      4.000000      2.000000     765.000000   \n",
       "max    6.000000e+07     46.000000     47.000000     50.000000   59100.000000   \n",
       "\n",
       "       suburb_population  suburb_median_income   suburb_sqkm    suburb_lat  \\\n",
       "count       11160.000000          11160.000000  11160.000000  11160.000000   \n",
       "mean         9311.560036          40168.243369      5.054877    -33.781413   \n",
       "std          7541.636246          11089.955120      5.824663      0.202478   \n",
       "min            22.000000          14248.000000      0.089000    -34.106240   \n",
       "25%          3977.000000          32448.000000      1.776000    -33.921480   \n",
       "50%          7457.000000          39104.000000      3.566000    -33.809180   \n",
       "75%         12158.250000          45552.000000      6.568000    -33.715510   \n",
       "max         47176.000000          97500.000000     87.154000    -33.163760   \n",
       "\n",
       "         suburb_lng  suburb_elevation     cash_rate  property_inflation_index  \\\n",
       "count  11160.000000      11160.000000  11160.000000              11160.000000   \n",
       "mean     151.096676         55.606720      0.631361                188.489686   \n",
       "std        0.213456         52.802315      0.658624                 24.441552   \n",
       "min      150.553840          0.000000      0.100000                150.900000   \n",
       "25%      150.951020         21.000000      0.100000                167.600000   \n",
       "50%      151.109470         40.000000      0.110000                176.600000   \n",
       "75%      151.227810         75.000000      1.500000                220.100000   \n",
       "max      151.573300        405.000000      2.000000                220.100000   \n",
       "\n",
       "        km_from_cbd  \n",
       "count  11160.000000  \n",
       "mean      27.381826  \n",
       "std       18.470113  \n",
       "min        0.310000  \n",
       "25%       12.960000  \n",
       "50%       22.310000  \n",
       "75%       40.990000  \n",
       "max       84.790000  "
      ]
     },
     "execution_count": 15,
     "metadata": {},
     "output_type": "execute_result"
    }
   ],
   "source": [
    "data_frame.describe()"
   ]
  },
  {
   "cell_type": "markdown",
   "metadata": {},
   "source": [
    "### Graphical Data Representation\n",
    "\n",
    "- Graphs that provides insights into the data which will inform future decisions surrounding model design and wrangling approaches"
   ]
  },
  {
   "cell_type": "code",
   "execution_count": 16,
   "metadata": {},
   "outputs": [
    {
     "data": {
      "text/plain": [
       "<Axes: >"
      ]
     },
     "execution_count": 16,
     "metadata": {},
     "output_type": "execute_result"
    },
    {
     "data": {
      "image/png": "[encoded data removed]",
      "text/plain": [
       "<Figure size 640x480 with 1 Axes>"
      ]
     },
     "metadata": {},
     "output_type": "display_data"
    }
   ],
   "source": [
    "# plot a line graph \n",
    "data_frame.plot()"
   ]
  },
  {
   "cell_type": "markdown",
   "metadata": {},
   "source": [
    "- As you can see the features are varied in scale at the moment, so they will need to be scaled and there is a large outlier around row 8200"
   ]
  },
  {
   "cell_type": "code",
   "execution_count": 22,
   "metadata": {},
   "outputs": [
    {
     "data": {
      "image/png": "[encoded data removed]",
      "text/plain": [
       "<Figure size 640x480 with 1 Axes>"
      ]
     },
     "metadata": {},
     "output_type": "display_data"
    }
   ],
   "source": [
    "# Plot a histogram of a column\n",
    "plt.hist(data_frame['km_from_cbd'])\n",
    "plt.title(f\"Histogram of {data_frame['km_from_cbd'].name}\")\n",
    "plt.ylabel('Count')\n",
    "plt.xlabel(f'{data_frame[\"km_from_cbd\"].name}')\n",
    "plt.show()"
   ]
  },
  {
   "cell_type": "markdown",
   "metadata": {},
   "source": [
    "This is a scatter plot used to graphically represent the relationship between an input feature and the target"
   ]
  },
  {
   "cell_type": "code",
   "execution_count": 26,
   "metadata": {},
   "outputs": [
    {
     "data": {
      "image/png": "[encoded data removed]",
      "text/plain": [
       "<Figure size 640x480 with 1 Axes>"
      ]
     },
     "metadata": {},
     "output_type": "display_data"
    }
   ],
   "source": [
    "# Scatter plot 2 columns to see the relationship\n",
    "plt.scatter(data_frame['num_bed'], data_frame['Target'])\n",
    "plt.title(f\"Scatter of {data_frame['num_bed'].name} against {data_frame['Target'].name}\")\n",
    "plt.ylabel(f'{data_frame['Target'].name} Data')\n",
    "plt.xlabel(f'{data_frame['num_bed'].name} Data')\n",
    "plt.show()"
   ]
  },
  {
   "cell_type": "markdown",
   "metadata": {},
   "source": [
    "- As you can see there is very little relationship between single features and target data"
   ]
  }
 ],
 "metadata": {
  "kernelspec": {
   "display_name": "Python 3",
   "language": "python",
   "name": "python3"
  },
  "language_info": {
   "codemirror_mode": {
    "name": "ipython",
    "version": 3
   },
   "file_extension": ".py",
   "mimetype": "text/x-python",
   "name": "python",
   "nbconvert_exporter": "python",
   "pygments_lexer": "ipython3",
   "version": "3.12.1"
  }
 },
 "nbformat": 4,
 "nbformat_minor": 2
}
